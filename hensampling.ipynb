{
 "cells": [
  {
   "cell_type": "markdown",
   "id": "expanded-caribbean",
   "metadata": {},
   "source": [
    "# Ensemble Learning"
   ]
  },
  {
   "cell_type": "markdown",
   "id": "coastal-input",
   "metadata": {},
   "source": [
    "### Initial Imports"
   ]
  },
  {
   "cell_type": "code",
   "execution_count": 1,
   "id": "inclusive-browser",
   "metadata": {},
   "outputs": [],
   "source": [
    "import warnings\n",
    "warnings.filterwarnings('ignore')\n",
    "import numpy as np\n",
    "import pandas as pd\n",
    "from pathlib import Path\n",
    "from collections import Counter\n",
    "from sklearn.metrics import balanced_accuracy_score\n",
    "from sklearn.metrics import confusion_matrix\n",
    "from imblearn.metrics import classification_report_imbalanced"
   ]
  },
  {
   "cell_type": "markdown",
   "id": "altered-police",
   "metadata": {},
   "source": [
    "### Read the CSV and Perform Basic Data Cleaning"
   ]
  },
  {
   "cell_type": "code",
   "execution_count": 2,
   "id": "final-retro",
   "metadata": {},
   "outputs": [
    {
     "data": {
      "text/html": [
       "<div>\n",
       "<style scoped>\n",
       "    .dataframe tbody tr th:only-of-type {\n",
       "        vertical-align: middle;\n",
       "    }\n",
       "\n",
       "    .dataframe tbody tr th {\n",
       "        vertical-align: top;\n",
       "    }\n",
       "\n",
       "    .dataframe thead th {\n",
       "        text-align: right;\n",
       "    }\n",
       "</style>\n",
       "<table border=\"1\" class=\"dataframe\">\n",
       "  <thead>\n",
       "    <tr style=\"text-align: right;\">\n",
       "      <th></th>\n",
       "      <th>loan_amnt</th>\n",
       "      <th>int_rate</th>\n",
       "      <th>installment</th>\n",
       "      <th>annual_inc</th>\n",
       "      <th>loan_status</th>\n",
       "      <th>dti</th>\n",
       "      <th>delinq_2yrs</th>\n",
       "      <th>inq_last_6mths</th>\n",
       "      <th>open_acc</th>\n",
       "      <th>pub_rec</th>\n",
       "      <th>...</th>\n",
       "      <th>home_ownership_MORTGAGE</th>\n",
       "      <th>home_ownership_OWN</th>\n",
       "      <th>home_ownership_RENT</th>\n",
       "      <th>verification_status_Source Verified</th>\n",
       "      <th>verification_status_Verified</th>\n",
       "      <th>application_type_Joint App</th>\n",
       "      <th>issue_d_Jan-2019</th>\n",
       "      <th>issue_d_Mar-2019</th>\n",
       "      <th>initial_list_status_w</th>\n",
       "      <th>next_pymnt_d_May-2019</th>\n",
       "    </tr>\n",
       "  </thead>\n",
       "  <tbody>\n",
       "    <tr>\n",
       "      <th>0</th>\n",
       "      <td>10500.0</td>\n",
       "      <td>0.1719</td>\n",
       "      <td>375.35</td>\n",
       "      <td>66000.0</td>\n",
       "      <td>low_risk</td>\n",
       "      <td>27.24</td>\n",
       "      <td>0.0</td>\n",
       "      <td>0.0</td>\n",
       "      <td>8.0</td>\n",
       "      <td>0.0</td>\n",
       "      <td>...</td>\n",
       "      <td>0</td>\n",
       "      <td>0</td>\n",
       "      <td>1</td>\n",
       "      <td>1</td>\n",
       "      <td>0</td>\n",
       "      <td>0</td>\n",
       "      <td>0</td>\n",
       "      <td>1</td>\n",
       "      <td>1</td>\n",
       "      <td>1</td>\n",
       "    </tr>\n",
       "    <tr>\n",
       "      <th>1</th>\n",
       "      <td>25000.0</td>\n",
       "      <td>0.2000</td>\n",
       "      <td>929.09</td>\n",
       "      <td>105000.0</td>\n",
       "      <td>low_risk</td>\n",
       "      <td>20.23</td>\n",
       "      <td>0.0</td>\n",
       "      <td>0.0</td>\n",
       "      <td>17.0</td>\n",
       "      <td>1.0</td>\n",
       "      <td>...</td>\n",
       "      <td>1</td>\n",
       "      <td>0</td>\n",
       "      <td>0</td>\n",
       "      <td>0</td>\n",
       "      <td>1</td>\n",
       "      <td>0</td>\n",
       "      <td>0</td>\n",
       "      <td>1</td>\n",
       "      <td>1</td>\n",
       "      <td>1</td>\n",
       "    </tr>\n",
       "    <tr>\n",
       "      <th>2</th>\n",
       "      <td>20000.0</td>\n",
       "      <td>0.2000</td>\n",
       "      <td>529.88</td>\n",
       "      <td>56000.0</td>\n",
       "      <td>low_risk</td>\n",
       "      <td>24.26</td>\n",
       "      <td>0.0</td>\n",
       "      <td>0.0</td>\n",
       "      <td>8.0</td>\n",
       "      <td>0.0</td>\n",
       "      <td>...</td>\n",
       "      <td>1</td>\n",
       "      <td>0</td>\n",
       "      <td>0</td>\n",
       "      <td>0</td>\n",
       "      <td>1</td>\n",
       "      <td>0</td>\n",
       "      <td>0</td>\n",
       "      <td>1</td>\n",
       "      <td>1</td>\n",
       "      <td>1</td>\n",
       "    </tr>\n",
       "    <tr>\n",
       "      <th>3</th>\n",
       "      <td>10000.0</td>\n",
       "      <td>0.1640</td>\n",
       "      <td>353.55</td>\n",
       "      <td>92000.0</td>\n",
       "      <td>low_risk</td>\n",
       "      <td>31.44</td>\n",
       "      <td>0.0</td>\n",
       "      <td>1.0</td>\n",
       "      <td>10.0</td>\n",
       "      <td>1.0</td>\n",
       "      <td>...</td>\n",
       "      <td>0</td>\n",
       "      <td>0</td>\n",
       "      <td>1</td>\n",
       "      <td>0</td>\n",
       "      <td>1</td>\n",
       "      <td>0</td>\n",
       "      <td>0</td>\n",
       "      <td>1</td>\n",
       "      <td>1</td>\n",
       "      <td>1</td>\n",
       "    </tr>\n",
       "    <tr>\n",
       "      <th>4</th>\n",
       "      <td>22000.0</td>\n",
       "      <td>0.1474</td>\n",
       "      <td>520.39</td>\n",
       "      <td>52000.0</td>\n",
       "      <td>low_risk</td>\n",
       "      <td>18.76</td>\n",
       "      <td>0.0</td>\n",
       "      <td>1.0</td>\n",
       "      <td>14.0</td>\n",
       "      <td>0.0</td>\n",
       "      <td>...</td>\n",
       "      <td>1</td>\n",
       "      <td>0</td>\n",
       "      <td>0</td>\n",
       "      <td>0</td>\n",
       "      <td>0</td>\n",
       "      <td>0</td>\n",
       "      <td>0</td>\n",
       "      <td>1</td>\n",
       "      <td>1</td>\n",
       "      <td>1</td>\n",
       "    </tr>\n",
       "  </tbody>\n",
       "</table>\n",
       "<p>5 rows × 87 columns</p>\n",
       "</div>"
      ],
      "text/plain": [
       "   loan_amnt  int_rate  installment  annual_inc loan_status    dti  \\\n",
       "0    10500.0    0.1719       375.35     66000.0    low_risk  27.24   \n",
       "1    25000.0    0.2000       929.09    105000.0    low_risk  20.23   \n",
       "2    20000.0    0.2000       529.88     56000.0    low_risk  24.26   \n",
       "3    10000.0    0.1640       353.55     92000.0    low_risk  31.44   \n",
       "4    22000.0    0.1474       520.39     52000.0    low_risk  18.76   \n",
       "\n",
       "   delinq_2yrs  inq_last_6mths  open_acc  pub_rec  ...  \\\n",
       "0          0.0             0.0       8.0      0.0  ...   \n",
       "1          0.0             0.0      17.0      1.0  ...   \n",
       "2          0.0             0.0       8.0      0.0  ...   \n",
       "3          0.0             1.0      10.0      1.0  ...   \n",
       "4          0.0             1.0      14.0      0.0  ...   \n",
       "\n",
       "   home_ownership_MORTGAGE  home_ownership_OWN  home_ownership_RENT  \\\n",
       "0                        0                   0                    1   \n",
       "1                        1                   0                    0   \n",
       "2                        1                   0                    0   \n",
       "3                        0                   0                    1   \n",
       "4                        1                   0                    0   \n",
       "\n",
       "   verification_status_Source Verified  verification_status_Verified  \\\n",
       "0                                    1                             0   \n",
       "1                                    0                             1   \n",
       "2                                    0                             1   \n",
       "3                                    0                             1   \n",
       "4                                    0                             0   \n",
       "\n",
       "   application_type_Joint App  issue_d_Jan-2019  issue_d_Mar-2019  \\\n",
       "0                           0                 0                 1   \n",
       "1                           0                 0                 1   \n",
       "2                           0                 0                 1   \n",
       "3                           0                 0                 1   \n",
       "4                           0                 0                 1   \n",
       "\n",
       "   initial_list_status_w  next_pymnt_d_May-2019  \n",
       "0                      1                      1  \n",
       "1                      1                      1  \n",
       "2                      1                      1  \n",
       "3                      1                      1  \n",
       "4                      1                      1  \n",
       "\n",
       "[5 rows x 87 columns]"
      ]
     },
     "execution_count": 2,
     "metadata": {},
     "output_type": "execute_result"
    }
   ],
   "source": [
    "file_path = Path('LoanStats_2019Q1.csv')\n",
    "df = pd.read_csv(file_path)\n",
    "df=pd.get_dummies(df,columns=[\"home_ownership\",\"verification_status\",\"application_type\",\"hardship_flag\",\"debt_settlement_flag\",\"issue_d\",\"pymnt_plan\",\"initial_list_status\",\"next_pymnt_d\"],drop_first=True)\n",
    "df.head()"
   ]
  },
  {
   "cell_type": "markdown",
   "id": "emerging-michael",
   "metadata": {},
   "source": [
    "###  Split the Data into Training and Testing"
   ]
  },
  {
   "cell_type": "code",
   "execution_count": 3,
   "id": "ordered-eligibility",
   "metadata": {},
   "outputs": [
    {
     "data": {
      "text/html": [
       "<div>\n",
       "<style scoped>\n",
       "    .dataframe tbody tr th:only-of-type {\n",
       "        vertical-align: middle;\n",
       "    }\n",
       "\n",
       "    .dataframe tbody tr th {\n",
       "        vertical-align: top;\n",
       "    }\n",
       "\n",
       "    .dataframe thead th {\n",
       "        text-align: right;\n",
       "    }\n",
       "</style>\n",
       "<table border=\"1\" class=\"dataframe\">\n",
       "  <thead>\n",
       "    <tr style=\"text-align: right;\">\n",
       "      <th></th>\n",
       "      <th>loan_amnt</th>\n",
       "      <th>int_rate</th>\n",
       "      <th>installment</th>\n",
       "      <th>annual_inc</th>\n",
       "      <th>dti</th>\n",
       "      <th>delinq_2yrs</th>\n",
       "      <th>inq_last_6mths</th>\n",
       "      <th>open_acc</th>\n",
       "      <th>pub_rec</th>\n",
       "      <th>revol_bal</th>\n",
       "      <th>...</th>\n",
       "      <th>home_ownership_MORTGAGE</th>\n",
       "      <th>home_ownership_OWN</th>\n",
       "      <th>home_ownership_RENT</th>\n",
       "      <th>verification_status_Source Verified</th>\n",
       "      <th>verification_status_Verified</th>\n",
       "      <th>application_type_Joint App</th>\n",
       "      <th>issue_d_Jan-2019</th>\n",
       "      <th>issue_d_Mar-2019</th>\n",
       "      <th>initial_list_status_w</th>\n",
       "      <th>next_pymnt_d_May-2019</th>\n",
       "    </tr>\n",
       "  </thead>\n",
       "  <tbody>\n",
       "    <tr>\n",
       "      <th>count</th>\n",
       "      <td>68817.000000</td>\n",
       "      <td>68817.000000</td>\n",
       "      <td>68817.000000</td>\n",
       "      <td>6.881700e+04</td>\n",
       "      <td>68817.000000</td>\n",
       "      <td>68817.000000</td>\n",
       "      <td>68817.000000</td>\n",
       "      <td>68817.000000</td>\n",
       "      <td>68817.000000</td>\n",
       "      <td>68817.000000</td>\n",
       "      <td>...</td>\n",
       "      <td>68817.000000</td>\n",
       "      <td>68817.000000</td>\n",
       "      <td>68817.000000</td>\n",
       "      <td>68817.000000</td>\n",
       "      <td>68817.000000</td>\n",
       "      <td>68817.000000</td>\n",
       "      <td>68817.000000</td>\n",
       "      <td>68817.000000</td>\n",
       "      <td>68817.000000</td>\n",
       "      <td>68817.000000</td>\n",
       "    </tr>\n",
       "    <tr>\n",
       "      <th>mean</th>\n",
       "      <td>16677.594562</td>\n",
       "      <td>0.127718</td>\n",
       "      <td>480.652863</td>\n",
       "      <td>8.821371e+04</td>\n",
       "      <td>21.778153</td>\n",
       "      <td>0.217766</td>\n",
       "      <td>0.497697</td>\n",
       "      <td>12.587340</td>\n",
       "      <td>0.126030</td>\n",
       "      <td>17604.142828</td>\n",
       "      <td>...</td>\n",
       "      <td>0.526309</td>\n",
       "      <td>0.106747</td>\n",
       "      <td>0.357659</td>\n",
       "      <td>0.373992</td>\n",
       "      <td>0.148001</td>\n",
       "      <td>0.139660</td>\n",
       "      <td>0.451066</td>\n",
       "      <td>0.177238</td>\n",
       "      <td>0.876121</td>\n",
       "      <td>0.616839</td>\n",
       "    </tr>\n",
       "    <tr>\n",
       "      <th>std</th>\n",
       "      <td>10277.348590</td>\n",
       "      <td>0.048130</td>\n",
       "      <td>288.062432</td>\n",
       "      <td>1.155800e+05</td>\n",
       "      <td>20.199244</td>\n",
       "      <td>0.718367</td>\n",
       "      <td>0.758122</td>\n",
       "      <td>6.022869</td>\n",
       "      <td>0.336797</td>\n",
       "      <td>21835.880400</td>\n",
       "      <td>...</td>\n",
       "      <td>0.499311</td>\n",
       "      <td>0.308793</td>\n",
       "      <td>0.479314</td>\n",
       "      <td>0.483865</td>\n",
       "      <td>0.355104</td>\n",
       "      <td>0.346637</td>\n",
       "      <td>0.497603</td>\n",
       "      <td>0.381873</td>\n",
       "      <td>0.329446</td>\n",
       "      <td>0.486161</td>\n",
       "    </tr>\n",
       "    <tr>\n",
       "      <th>min</th>\n",
       "      <td>1000.000000</td>\n",
       "      <td>0.060000</td>\n",
       "      <td>30.890000</td>\n",
       "      <td>4.000000e+01</td>\n",
       "      <td>0.000000</td>\n",
       "      <td>0.000000</td>\n",
       "      <td>0.000000</td>\n",
       "      <td>2.000000</td>\n",
       "      <td>0.000000</td>\n",
       "      <td>0.000000</td>\n",
       "      <td>...</td>\n",
       "      <td>0.000000</td>\n",
       "      <td>0.000000</td>\n",
       "      <td>0.000000</td>\n",
       "      <td>0.000000</td>\n",
       "      <td>0.000000</td>\n",
       "      <td>0.000000</td>\n",
       "      <td>0.000000</td>\n",
       "      <td>0.000000</td>\n",
       "      <td>0.000000</td>\n",
       "      <td>0.000000</td>\n",
       "    </tr>\n",
       "    <tr>\n",
       "      <th>25%</th>\n",
       "      <td>9000.000000</td>\n",
       "      <td>0.088100</td>\n",
       "      <td>265.730000</td>\n",
       "      <td>5.000000e+04</td>\n",
       "      <td>13.890000</td>\n",
       "      <td>0.000000</td>\n",
       "      <td>0.000000</td>\n",
       "      <td>8.000000</td>\n",
       "      <td>0.000000</td>\n",
       "      <td>6293.000000</td>\n",
       "      <td>...</td>\n",
       "      <td>0.000000</td>\n",
       "      <td>0.000000</td>\n",
       "      <td>0.000000</td>\n",
       "      <td>0.000000</td>\n",
       "      <td>0.000000</td>\n",
       "      <td>0.000000</td>\n",
       "      <td>0.000000</td>\n",
       "      <td>0.000000</td>\n",
       "      <td>1.000000</td>\n",
       "      <td>0.000000</td>\n",
       "    </tr>\n",
       "    <tr>\n",
       "      <th>50%</th>\n",
       "      <td>15000.000000</td>\n",
       "      <td>0.118000</td>\n",
       "      <td>404.560000</td>\n",
       "      <td>7.300000e+04</td>\n",
       "      <td>19.760000</td>\n",
       "      <td>0.000000</td>\n",
       "      <td>0.000000</td>\n",
       "      <td>11.000000</td>\n",
       "      <td>0.000000</td>\n",
       "      <td>12068.000000</td>\n",
       "      <td>...</td>\n",
       "      <td>1.000000</td>\n",
       "      <td>0.000000</td>\n",
       "      <td>0.000000</td>\n",
       "      <td>0.000000</td>\n",
       "      <td>0.000000</td>\n",
       "      <td>0.000000</td>\n",
       "      <td>0.000000</td>\n",
       "      <td>0.000000</td>\n",
       "      <td>1.000000</td>\n",
       "      <td>1.000000</td>\n",
       "    </tr>\n",
       "    <tr>\n",
       "      <th>75%</th>\n",
       "      <td>24000.000000</td>\n",
       "      <td>0.155700</td>\n",
       "      <td>648.100000</td>\n",
       "      <td>1.040000e+05</td>\n",
       "      <td>26.660000</td>\n",
       "      <td>0.000000</td>\n",
       "      <td>1.000000</td>\n",
       "      <td>16.000000</td>\n",
       "      <td>0.000000</td>\n",
       "      <td>21735.000000</td>\n",
       "      <td>...</td>\n",
       "      <td>1.000000</td>\n",
       "      <td>0.000000</td>\n",
       "      <td>1.000000</td>\n",
       "      <td>1.000000</td>\n",
       "      <td>0.000000</td>\n",
       "      <td>0.000000</td>\n",
       "      <td>1.000000</td>\n",
       "      <td>0.000000</td>\n",
       "      <td>1.000000</td>\n",
       "      <td>1.000000</td>\n",
       "    </tr>\n",
       "    <tr>\n",
       "      <th>max</th>\n",
       "      <td>40000.000000</td>\n",
       "      <td>0.308400</td>\n",
       "      <td>1676.230000</td>\n",
       "      <td>8.797500e+06</td>\n",
       "      <td>999.000000</td>\n",
       "      <td>18.000000</td>\n",
       "      <td>5.000000</td>\n",
       "      <td>72.000000</td>\n",
       "      <td>4.000000</td>\n",
       "      <td>587191.000000</td>\n",
       "      <td>...</td>\n",
       "      <td>1.000000</td>\n",
       "      <td>1.000000</td>\n",
       "      <td>1.000000</td>\n",
       "      <td>1.000000</td>\n",
       "      <td>1.000000</td>\n",
       "      <td>1.000000</td>\n",
       "      <td>1.000000</td>\n",
       "      <td>1.000000</td>\n",
       "      <td>1.000000</td>\n",
       "      <td>1.000000</td>\n",
       "    </tr>\n",
       "  </tbody>\n",
       "</table>\n",
       "<p>8 rows × 86 columns</p>\n",
       "</div>"
      ],
      "text/plain": [
       "          loan_amnt      int_rate   installment    annual_inc           dti  \\\n",
       "count  68817.000000  68817.000000  68817.000000  6.881700e+04  68817.000000   \n",
       "mean   16677.594562      0.127718    480.652863  8.821371e+04     21.778153   \n",
       "std    10277.348590      0.048130    288.062432  1.155800e+05     20.199244   \n",
       "min     1000.000000      0.060000     30.890000  4.000000e+01      0.000000   \n",
       "25%     9000.000000      0.088100    265.730000  5.000000e+04     13.890000   \n",
       "50%    15000.000000      0.118000    404.560000  7.300000e+04     19.760000   \n",
       "75%    24000.000000      0.155700    648.100000  1.040000e+05     26.660000   \n",
       "max    40000.000000      0.308400   1676.230000  8.797500e+06    999.000000   \n",
       "\n",
       "        delinq_2yrs  inq_last_6mths      open_acc       pub_rec  \\\n",
       "count  68817.000000    68817.000000  68817.000000  68817.000000   \n",
       "mean       0.217766        0.497697     12.587340      0.126030   \n",
       "std        0.718367        0.758122      6.022869      0.336797   \n",
       "min        0.000000        0.000000      2.000000      0.000000   \n",
       "25%        0.000000        0.000000      8.000000      0.000000   \n",
       "50%        0.000000        0.000000     11.000000      0.000000   \n",
       "75%        0.000000        1.000000     16.000000      0.000000   \n",
       "max       18.000000        5.000000     72.000000      4.000000   \n",
       "\n",
       "           revol_bal  ...  home_ownership_MORTGAGE  home_ownership_OWN  \\\n",
       "count   68817.000000  ...             68817.000000        68817.000000   \n",
       "mean    17604.142828  ...                 0.526309            0.106747   \n",
       "std     21835.880400  ...                 0.499311            0.308793   \n",
       "min         0.000000  ...                 0.000000            0.000000   \n",
       "25%      6293.000000  ...                 0.000000            0.000000   \n",
       "50%     12068.000000  ...                 1.000000            0.000000   \n",
       "75%     21735.000000  ...                 1.000000            0.000000   \n",
       "max    587191.000000  ...                 1.000000            1.000000   \n",
       "\n",
       "       home_ownership_RENT  verification_status_Source Verified  \\\n",
       "count         68817.000000                         68817.000000   \n",
       "mean              0.357659                             0.373992   \n",
       "std               0.479314                             0.483865   \n",
       "min               0.000000                             0.000000   \n",
       "25%               0.000000                             0.000000   \n",
       "50%               0.000000                             0.000000   \n",
       "75%               1.000000                             1.000000   \n",
       "max               1.000000                             1.000000   \n",
       "\n",
       "       verification_status_Verified  application_type_Joint App  \\\n",
       "count                  68817.000000                68817.000000   \n",
       "mean                       0.148001                    0.139660   \n",
       "std                        0.355104                    0.346637   \n",
       "min                        0.000000                    0.000000   \n",
       "25%                        0.000000                    0.000000   \n",
       "50%                        0.000000                    0.000000   \n",
       "75%                        0.000000                    0.000000   \n",
       "max                        1.000000                    1.000000   \n",
       "\n",
       "       issue_d_Jan-2019  issue_d_Mar-2019  initial_list_status_w  \\\n",
       "count      68817.000000      68817.000000           68817.000000   \n",
       "mean           0.451066          0.177238               0.876121   \n",
       "std            0.497603          0.381873               0.329446   \n",
       "min            0.000000          0.000000               0.000000   \n",
       "25%            0.000000          0.000000               1.000000   \n",
       "50%            0.000000          0.000000               1.000000   \n",
       "75%            1.000000          0.000000               1.000000   \n",
       "max            1.000000          1.000000               1.000000   \n",
       "\n",
       "       next_pymnt_d_May-2019  \n",
       "count           68817.000000  \n",
       "mean                0.616839  \n",
       "std                 0.486161  \n",
       "min                 0.000000  \n",
       "25%                 0.000000  \n",
       "50%                 1.000000  \n",
       "75%                 1.000000  \n",
       "max                 1.000000  \n",
       "\n",
       "[8 rows x 86 columns]"
      ]
     },
     "execution_count": 3,
     "metadata": {},
     "output_type": "execute_result"
    }
   ],
   "source": [
    "X = df.copy()\n",
    "X.drop(\"loan_status\", axis=1,inplace=True)\n",
    "X.describe()"
   ]
  },
  {
   "cell_type": "code",
   "execution_count": 4,
   "id": "inner-seafood",
   "metadata": {},
   "outputs": [
    {
     "data": {
      "text/plain": [
       "low_risk     68470\n",
       "high_risk      347\n",
       "Name: loan_status, dtype: int64"
      ]
     },
     "execution_count": 4,
     "metadata": {},
     "output_type": "execute_result"
    }
   ],
   "source": [
    "y=df[\"loan_status\"]\n",
    "y.value_counts()"
   ]
  },
  {
   "cell_type": "code",
   "execution_count": 5,
   "id": "bronze-laptop",
   "metadata": {},
   "outputs": [],
   "source": [
    "from sklearn.model_selection import train_test_split\n",
    "X_train, X_test, y_train, y_test = train_test_split(X, y, random_state=42)"
   ]
  },
  {
   "cell_type": "markdown",
   "id": "roman-spencer",
   "metadata": {},
   "source": [
    "###  Data Pre-Processing"
   ]
  },
  {
   "cell_type": "code",
   "execution_count": 10,
   "id": "divided-patrol",
   "metadata": {},
   "outputs": [],
   "source": [
    "from sklearn.preprocessing import StandardScaler\n",
    "scaler=StandardScaler()\n",
    "X_scaled = scaler.fit(X_train)"
   ]
  },
  {
   "cell_type": "code",
   "execution_count": 11,
   "id": "electric-closing",
   "metadata": {},
   "outputs": [],
   "source": [
    "X_scaled_train=X_scaled.transform(X_train)\n",
    "X_scaled_test=X_scaled.transform(X_test)"
   ]
  },
  {
   "cell_type": "markdown",
   "id": "supreme-crystal",
   "metadata": {},
   "source": [
    "##  Balanced Random Forest Classifier"
   ]
  },
  {
   "cell_type": "code",
   "execution_count": 12,
   "id": "through-breakdown",
   "metadata": {},
   "outputs": [],
   "source": [
    "from imblearn.ensemble import BalancedRandomForestClassifier"
   ]
  },
  {
   "cell_type": "code",
   "execution_count": 13,
   "id": "practical-fisher",
   "metadata": {},
   "outputs": [],
   "source": [
    "brf=BalancedRandomForestClassifier(n_estimators=100,random_state=1)\n",
    "brf_model= brf.fit(X_train,y_train)"
   ]
  },
  {
   "cell_type": "markdown",
   "id": "still-ranch",
   "metadata": {},
   "source": [
    "### Calculated the balanced accuracy score"
   ]
  },
  {
   "cell_type": "code",
   "execution_count": 14,
   "id": "arbitrary-simpson",
   "metadata": {},
   "outputs": [
    {
     "data": {
      "text/plain": [
       "0.7992101788919226"
      ]
     },
     "execution_count": 14,
     "metadata": {},
     "output_type": "execute_result"
    }
   ],
   "source": [
    "y_pred_brf=brf_model.predict(X_test)\n",
    "balanced_accuracy_score(y_test, y_pred_brf)"
   ]
  },
  {
   "cell_type": "markdown",
   "id": "tamil-version",
   "metadata": {},
   "source": [
    "### Display the confusion matrix"
   ]
  },
  {
   "cell_type": "code",
   "execution_count": 15,
   "id": "transparent-development",
   "metadata": {},
   "outputs": [
    {
     "data": {
      "text/plain": [
       "array([[   73,    31],\n",
       "       [ 1770, 15331]])"
      ]
     },
     "execution_count": 15,
     "metadata": {},
     "output_type": "execute_result"
    }
   ],
   "source": [
    "confusion_matrix(y_test, y_pred_brf)"
   ]
  },
  {
   "cell_type": "markdown",
   "id": "forced-trunk",
   "metadata": {},
   "source": [
    "### Print the imbalanced classification report"
   ]
  },
  {
   "cell_type": "code",
   "execution_count": 16,
   "id": "metropolitan-guest",
   "metadata": {},
   "outputs": [
    {
     "name": "stdout",
     "output_type": "stream",
     "text": [
      "                   pre       rec       spe        f1       geo       iba       sup\n",
      "\n",
      "  high_risk       0.04      0.70      0.90      0.07      0.79      0.62       104\n",
      "   low_risk       1.00      0.90      0.70      0.94      0.79      0.64     17101\n",
      "\n",
      "avg / total       0.99      0.90      0.70      0.94      0.79      0.64     17205\n",
      "\n"
     ]
    }
   ],
   "source": [
    "print(classification_report_imbalanced(y_test, y_pred_brf))"
   ]
  },
  {
   "cell_type": "markdown",
   "id": "gross-thermal",
   "metadata": {},
   "source": [
    "### List the features sorted in descending order by feature importance"
   ]
  },
  {
   "cell_type": "code",
   "execution_count": 17,
   "id": "strategic-sending",
   "metadata": {},
   "outputs": [
    {
     "data": {
      "text/plain": [
       "[(0.07893662638888792, 'total_rec_prncp'),\n",
       " (0.06957418932100731, 'total_pymnt'),\n",
       " (0.0646001570842341, 'total_rec_int'),\n",
       " (0.05722147278414711, 'last_pymnt_amnt'),\n",
       " (0.05534202633157051, 'total_pymnt_inv'),\n",
       " (0.026165015739022367, 'int_rate'),\n",
       " (0.018505472650741542, 'tot_hi_cred_lim'),\n",
       " (0.018086014502427892, 'installment'),\n",
       " (0.017690728601837142, 'tot_cur_bal'),\n",
       " (0.017391901261611917, 'issue_d_Jan-2019'),\n",
       " (0.01684161926700493, 'max_bal_bc'),\n",
       " (0.01658483826983536, 'issue_d_Mar-2019'),\n",
       " (0.015685085200333706, 'il_util'),\n",
       " (0.015287919374801876, 'mo_sin_old_rev_tl_op'),\n",
       " (0.015187633959384045, 'out_prncp_inv'),\n",
       " (0.015184968503838882, 'total_bc_limit'),\n",
       " (0.01517745443751965, 'total_bal_il'),\n",
       " (0.014789943339863379, 'mo_sin_old_il_acct'),\n",
       " (0.014779345574474662, 'bc_util'),\n",
       " (0.014610214881872143, 'total_rev_hi_lim'),\n",
       " (0.014604065747598257, 'all_util'),\n",
       " (0.014377880279974936, 'out_prncp'),\n",
       " (0.014006889432055077, 'revol_bal'),\n",
       " (0.013847073935733006, 'dti'),\n",
       " (0.01336363796898319, 'annual_inc'),\n",
       " (0.013328477700441028, 'avg_cur_bal'),\n",
       " (0.013019871055371628, 'total_bal_ex_mort'),\n",
       " (0.012980249385739974, 'total_il_high_credit_limit'),\n",
       " (0.012967467980880243, 'mths_since_recent_inq'),\n",
       " (0.011536950475040927, 'mths_since_rcnt_il'),\n",
       " (0.01149882485814589, 'num_rev_accts'),\n",
       " (0.011435236962461612, 'mths_since_recent_bc'),\n",
       " (0.011140117140809298, 'mo_sin_rcnt_rev_tl_op'),\n",
       " (0.010730817019879688, 'bc_open_to_buy'),\n",
       " (0.010438594160427507, 'loan_amnt'),\n",
       " (0.00989057470850969, 'total_acc'),\n",
       " (0.009735799642696642, 'pct_tl_nvr_dlq'),\n",
       " (0.009318881508847918, 'inq_last_12m'),\n",
       " (0.00896883610349955, 'num_op_rev_tl'),\n",
       " (0.008944451695886754, 'open_acc'),\n",
       " (0.008734513300168627, 'num_bc_tl'),\n",
       " (0.008587269535919623, 'num_rev_tl_bal_gt_0'),\n",
       " (0.008529244383851305, 'num_sats'),\n",
       " (0.008349381692504574, 'open_rv_24m'),\n",
       " (0.008177931545843693, 'acc_open_past_24mths'),\n",
       " (0.007975560916402271, 'num_il_tl'),\n",
       " (0.007951029755609145, 'num_actv_rev_tl'),\n",
       " (0.007810999754716724, 'inq_fi'),\n",
       " (0.007798857337500628, 'next_pymnt_d_May-2019'),\n",
       " (0.007542429259085218, 'total_cu_tl'),\n",
       " (0.007539370942400992, 'open_act_il'),\n",
       " (0.007419113967981978, 'num_tl_op_past_12m'),\n",
       " (0.00736716890522037, 'mo_sin_rcnt_tl'),\n",
       " (0.007116499124375553, 'num_actv_bc_tl'),\n",
       " (0.00709456157848455, 'open_acc_6m'),\n",
       " (0.006891922984756482, 'open_il_24m'),\n",
       " (0.005743737798603202, 'mort_acc'),\n",
       " (0.00568529717860043, 'percent_bc_gt_75'),\n",
       " (0.005652119143075259, 'num_bc_sats'),\n",
       " (0.004867305387256114, 'inq_last_6mths'),\n",
       " (0.004692657522264105, 'total_rec_late_fee'),\n",
       " (0.00440343829976055, 'open_il_12m'),\n",
       " (0.004215424134132198, 'delinq_2yrs'),\n",
       " (0.003966929642288187, 'open_rv_12m'),\n",
       " (0.00342946638245877, 'tot_coll_amt'),\n",
       " (0.002550732476009387, 'verification_status_Verified'),\n",
       " (0.002302467138190209, 'num_accts_ever_120_pd'),\n",
       " (0.001790999760495405, 'home_ownership_MORTGAGE'),\n",
       " (0.0016972788154503743, 'application_type_Joint App'),\n",
       " (0.0016285298126550284, 'home_ownership_OWN'),\n",
       " (0.0014569194647068911, 'pub_rec_bankruptcies'),\n",
       " (0.0014395640860309202, 'verification_status_Source Verified'),\n",
       " (0.0014062600463265594, 'pub_rec'),\n",
       " (0.0013754335357639162, 'home_ownership_RENT'),\n",
       " (0.0013020479298293073, 'initial_list_status_w'),\n",
       " (0.0011013937021448017, 'num_tl_90g_dpd_24m'),\n",
       " (0.00044786375999690715, 'collections_12_mths_ex_med'),\n",
       " (0.0001809537617406454, 'chargeoff_within_12_mths'),\n",
       " (0.0, 'tax_liens'),\n",
       " (0.0, 'recoveries'),\n",
       " (0.0, 'policy_code'),\n",
       " (0.0, 'num_tl_30dpd'),\n",
       " (0.0, 'num_tl_120dpd_2m'),\n",
       " (0.0, 'delinq_amnt'),\n",
       " (0.0, 'collection_recovery_fee'),\n",
       " (0.0, 'acc_now_delinq')]"
      ]
     },
     "execution_count": 17,
     "metadata": {},
     "output_type": "execute_result"
    }
   ],
   "source": [
    "sorted(zip(brf_model.feature_importances_,X.columns),reverse=True)"
   ]
  },
  {
   "cell_type": "markdown",
   "id": "brilliant-tennessee",
   "metadata": {},
   "source": [
    "### Easy Ensemble Classifier"
   ]
  },
  {
   "cell_type": "code",
   "execution_count": 18,
   "id": "terminal-poetry",
   "metadata": {},
   "outputs": [],
   "source": [
    "from imblearn.ensemble import EasyEnsembleClassifier\n",
    "easy= EasyEnsembleClassifier(n_estimators=100,random_state=42)\n",
    "easy=easy.fit(X_train,y_train)"
   ]
  },
  {
   "cell_type": "markdown",
   "id": "sapphire-classroom",
   "metadata": {},
   "source": [
    "### Calculated the balanced accuracy score"
   ]
  },
  {
   "cell_type": "code",
   "execution_count": 20,
   "id": "exterior-michael",
   "metadata": {},
   "outputs": [
    {
     "data": {
      "text/plain": [
       "0.9289546157894499"
      ]
     },
     "execution_count": 20,
     "metadata": {},
     "output_type": "execute_result"
    }
   ],
   "source": [
    "y_pred_easy = easy.predict(X_test)\n",
    "balanced_accuracy_score(y_test, y_pred_easy)"
   ]
  },
  {
   "cell_type": "markdown",
   "id": "sticky-cemetery",
   "metadata": {},
   "source": [
    "### Display the confusion matrix"
   ]
  },
  {
   "cell_type": "code",
   "execution_count": 21,
   "id": "aquatic-incentive",
   "metadata": {},
   "outputs": [
    {
     "data": {
      "text/plain": [
       "array([[   95,     9],\n",
       "       [  950, 16151]])"
      ]
     },
     "execution_count": 21,
     "metadata": {},
     "output_type": "execute_result"
    }
   ],
   "source": [
    "confusion_matrix(y_test, y_pred_easy)"
   ]
  },
  {
   "cell_type": "markdown",
   "id": "weird-romania",
   "metadata": {},
   "source": [
    "### Print the imbalanced classification report"
   ]
  },
  {
   "cell_type": "code",
   "execution_count": 22,
   "id": "ambient-google",
   "metadata": {},
   "outputs": [
    {
     "name": "stdout",
     "output_type": "stream",
     "text": [
      "                   pre       rec       spe        f1       geo       iba       sup\n",
      "\n",
      "  high_risk       0.09      0.91      0.94      0.17      0.93      0.86       104\n",
      "   low_risk       1.00      0.94      0.91      0.97      0.93      0.87     17101\n",
      "\n",
      "avg / total       0.99      0.94      0.91      0.97      0.93      0.87     17205\n",
      "\n"
     ]
    }
   ],
   "source": [
    "print(classification_report_imbalanced(y_test, y_pred_easy))"
   ]
  },
  {
   "cell_type": "markdown",
   "id": "afraid-identification",
   "metadata": {},
   "source": [
    "##  Final Questions"
   ]
  },
  {
   "cell_type": "markdown",
   "id": "sapphire-catering",
   "metadata": {},
   "source": [
    "- Which model had the best balanced accuracy score?"
   ]
  },
  {
   "cell_type": "markdown",
   "id": "characteristic-influence",
   "metadata": {},
   "source": [
    "Easy Ensemble Classifier"
   ]
  },
  {
   "cell_type": "markdown",
   "id": "smart-continuity",
   "metadata": {},
   "source": [
    "- Which model had the best recall score?"
   ]
  },
  {
   "cell_type": "markdown",
   "id": "verified-ocean",
   "metadata": {},
   "source": [
    "Easy Ensemble Classifier"
   ]
  },
  {
   "cell_type": "markdown",
   "id": "united-affairs",
   "metadata": {},
   "source": [
    "- Which model had the best geometric mean score?"
   ]
  },
  {
   "cell_type": "markdown",
   "id": "certain-router",
   "metadata": {},
   "source": [
    "Easy Ensemble Classifier"
   ]
  },
  {
   "cell_type": "markdown",
   "id": "intimate-plate",
   "metadata": {},
   "source": [
    "- What are the top three features?"
   ]
  },
  {
   "cell_type": "markdown",
   "id": "operating-yacht",
   "metadata": {},
   "source": [
    "- total_rec_prncp\n",
    "- total_pymnt\n",
    "- total_rec_int"
   ]
  },
  {
   "cell_type": "code",
   "execution_count": null,
   "id": "headed-politics",
   "metadata": {},
   "outputs": [],
   "source": []
  }
 ],
 "metadata": {
  "kernelspec": {
   "display_name": "Python [conda env:pyvizenv]",
   "language": "python",
   "name": "conda-env-pyvizenv-py"
  },
  "language_info": {
   "codemirror_mode": {
    "name": "ipython",
    "version": 3
   },
   "file_extension": ".py",
   "mimetype": "text/x-python",
   "name": "python",
   "nbconvert_exporter": "python",
   "pygments_lexer": "ipython3",
   "version": "3.7.9"
  }
 },
 "nbformat": 4,
 "nbformat_minor": 5
}
